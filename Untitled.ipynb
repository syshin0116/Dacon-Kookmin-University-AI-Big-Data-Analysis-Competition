{
 "cells": [
  {
   "cell_type": "code",
   "execution_count": 1,
   "id": "6e2f5061-6fe3-4b84-bfac-6e53bb4d6462",
   "metadata": {},
   "outputs": [],
   "source": [
    "import pandas as pd\n",
    "import numpy as np"
   ]
  },
  {
   "cell_type": "code",
   "execution_count": 2,
   "id": "fb19b440-ced6-417f-bae3-b3d8e2b7d8ec",
   "metadata": {},
   "outputs": [],
   "source": [
    "apply_train = pd.read_csv('./data/apply_train.csv')\n",
    "company = pd.read_csv('./data/company.csv')\n",
    "recruitment = pd.read_csv('./data/recruitment.csv')\n",
    "resume_certificate = pd.read_csv('./data/resume_certificate.csv')\n",
    "resume_education = pd.read_csv('./data/resume_education.csv')\n",
    "resume_language = pd.read_csv('./data/resume_language.csv')\n",
    "resume = pd.read_csv('./data/resume.csv')"
   ]
  },
  {
   "cell_type": "code",
   "execution_count": 3,
   "id": "b807698b-d163-4450-b769-e24f121001bb",
   "metadata": {},
   "outputs": [
    {
     "data": {
      "text/html": [
       "<div>\n",
       "<style scoped>\n",
       "    .dataframe tbody tr th:only-of-type {\n",
       "        vertical-align: middle;\n",
       "    }\n",
       "\n",
       "    .dataframe tbody tr th {\n",
       "        vertical-align: top;\n",
       "    }\n",
       "\n",
       "    .dataframe thead th {\n",
       "        text-align: right;\n",
       "    }\n",
       "</style>\n",
       "<table border=\"1\" class=\"dataframe\">\n",
       "  <thead>\n",
       "    <tr style=\"text-align: right;\">\n",
       "      <th></th>\n",
       "      <th>resume_seq</th>\n",
       "      <th>recruitment_seq</th>\n",
       "    </tr>\n",
       "  </thead>\n",
       "  <tbody>\n",
       "    <tr>\n",
       "      <th>0</th>\n",
       "      <td>U05833</td>\n",
       "      <td>R03838</td>\n",
       "    </tr>\n",
       "    <tr>\n",
       "      <th>1</th>\n",
       "      <td>U06456</td>\n",
       "      <td>R02144</td>\n",
       "    </tr>\n",
       "    <tr>\n",
       "      <th>2</th>\n",
       "      <td>U07807</td>\n",
       "      <td>R01877</td>\n",
       "    </tr>\n",
       "    <tr>\n",
       "      <th>3</th>\n",
       "      <td>U04842</td>\n",
       "      <td>R02463</td>\n",
       "    </tr>\n",
       "    <tr>\n",
       "      <th>4</th>\n",
       "      <td>U08336</td>\n",
       "      <td>R00112</td>\n",
       "    </tr>\n",
       "  </tbody>\n",
       "</table>\n",
       "</div>"
      ],
      "text/plain": [
       "  resume_seq recruitment_seq\n",
       "0     U05833          R03838\n",
       "1     U06456          R02144\n",
       "2     U07807          R01877\n",
       "3     U04842          R02463\n",
       "4     U08336          R00112"
      ]
     },
     "execution_count": 3,
     "metadata": {},
     "output_type": "execute_result"
    }
   ],
   "source": [
    "apply_train.head()"
   ]
  },
  {
   "cell_type": "code",
   "execution_count": null,
   "id": "bde55113-b41d-4b61-9654-3270d16de3d7",
   "metadata": {},
   "outputs": [],
   "source": []
  }
 ],
 "metadata": {
  "kernelspec": {
   "display_name": "Python 3 (ipykernel)",
   "language": "python",
   "name": "python3"
  },
  "language_info": {
   "codemirror_mode": {
    "name": "ipython",
    "version": 3
   },
   "file_extension": ".py",
   "mimetype": "text/x-python",
   "name": "python",
   "nbconvert_exporter": "python",
   "pygments_lexer": "ipython3",
   "version": "3.9.10"
  }
 },
 "nbformat": 4,
 "nbformat_minor": 5
}
